{
 "cells": [
  {
   "cell_type": "markdown",
   "id": "1b0867d5",
   "metadata": {},
   "source": [
    "# Google Work Hours\n",
    "Extracts work hours based on location data.\n",
    "Registers the earliest and latest entry per day for a specific geospatial location, the work place.\n",
    "Based on this it calculates the length of the work day."
   ]
  },
  {
   "cell_type": "code",
   "execution_count": null,
   "id": "3b0bc1d9",
   "metadata": {},
   "outputs": [],
   "source": [
    "# -*- coding: utf-8 -*-\n",
    "from folium import Map, Marker, Icon, Circle\n",
    "from pyproj import Proj, transform\n",
    "from datetime import datetime, timezone\n",
    "from os.path import exists, isfile\n",
    "from distutils.command.config import config\n",
    "\n",
    "import json\n",
    "import math\n",
    "import pandas as pd\n",
    "import matplotlib.pyplot as plt\n",
    "\n",
    "from latlon_to_utm import GPStoUTM\n",
    "\n",
    "def coordConv(Lat, Long):\n",
    "    lat = float(int(Lat)/(10**7))\n",
    "    long = float(int(Long)/(10**7))\n",
    "    return [lat, long]\n",
    "\n",
    "\n",
    "configuration = {}\n",
    "with open(\"config.json\", \"r\", encoding=\"utf-8\") as config_file_handle:\n",
    "    configuration = json.loads( config_file_handle.read().strip() )\n",
    "\n",
    "\n",
    "if configuration:\n",
    "    #Starting timestamp to extract\n",
    "    origoTs = datetime.strptime( configuration[\"date_start\"], '%Y%m%d' ).replace( tzinfo=timezone.utc )\n",
    "    \n",
    "    #Set origo for geo-fencing\n",
    "    gps = GPStoUTM()\n",
    "    #Retrieved from google maps (WSG84 coordinate system)\n",
    "    CoordWork = [configuration[\"latitude\"], configuration[\"longitude\"]]\n",
    "    CoordWorkM = gps.LLtoUTM(configuration[\"latitude\"], configuration[\"longitude\"])\n",
    "    LocationDataFile = None"
   ]
  },
  {
   "cell_type": "markdown",
   "id": "c67d54a7",
   "metadata": {},
   "source": [
    "## Import location data file\n",
    "Location data is regularly altered.  Two version of timestamp information is parsed currently and three fields are used, timestamp, latitude and longtitude."
   ]
  },
  {
   "cell_type": "code",
   "execution_count": null,
   "id": "6447a331",
   "metadata": {},
   "outputs": [],
   "source": [
    "LocationDataFile = input( \"Data file: \" ).replace('\"', '')\n",
    "if LocationDataFile and exists( LocationDataFile ):\n",
    "    JsonData = {}\n",
    "    with open(LocationDataFile, \"r\", encoding=\"utf-8\") as F:\n",
    "        JsonData = json.loads( F.read().strip() )[\"locations\"]\n",
    "    df = pd.DataFrame( JsonData )"
   ]
  },
  {
   "cell_type": "markdown",
   "id": "7259f3be",
   "metadata": {},
   "source": [
    "## Load data\n",
    "loads the data and parses its location info into dasets per day."
   ]
  },
  {
   "cell_type": "code",
   "execution_count": null,
   "id": "257c51d6",
   "metadata": {},
   "outputs": [],
   "source": [
    "#Plot\n",
    "source_columns = df.columns\n",
    "timestampColumn = \"timestampMs\" if \"timestampMs\" in source_columns else \"timestamp\"\n",
    "cols = [\"latitudeE7\",\"longitudeE7\", timestampColumn]\n",
    "if timestampColumn == \"timestamp\":\n",
    "    df['timestamp'] = pd.to_datetime(df['timestamp'], format='%Y-%m-%dT%H:%M:%S.%f' )\n",
    "    \n",
    "EuclidHist = []\n",
    "dailySets  = {}\n",
    "preKey     = 0\n",
    "for index, row in df[cols].iterrows():\n",
    "    if timestampColumn == \"timestampMs\":\n",
    "        row[\"timestampMs\"] = datetime.fromtimestamp( int(row.timestampMs)/1000.0 )\n",
    "    \n",
    "    if row[timestampColumn] < origoTs:\n",
    "        continue\n",
    "        \n",
    "    ts = row[timestampColumn]\n",
    "    key = int( ts.strftime(\"%Y%m%d\") )\n",
    "    if key != preKey and key not in dailySets:\n",
    "        dailySets.update({key:[]})\n",
    "            \n",
    "    tmpCoord  = coordConv(row.latitudeE7, row.longitudeE7)\n",
    "    tmpCoordM = gps.LLtoUTM(tmpCoord[0], tmpCoord[1])\n",
    "    \n",
    "    eu = math.dist( CoordWorkM, tmpCoordM )\n",
    "    EuclidHist.append(eu)\n",
    "    \n",
    "    dailySets[key].append({\n",
    "        \"lat\":       tmpCoord[0],\n",
    "        \"long\":      tmpCoord[1],\n",
    "        \"euclid\":    eu,\n",
    "        \"timestamp\": ts\n",
    "    })"
   ]
  },
  {
   "cell_type": "markdown",
   "id": "e7d7d507",
   "metadata": {},
   "source": [
    "## Extract euclid distance of < n"
   ]
  },
  {
   "cell_type": "code",
   "execution_count": null,
   "id": "d4cdeb50",
   "metadata": {},
   "outputs": [],
   "source": [
    "dfHist = pd.DataFrame( EuclidHist )\n",
    "dfHist[dfHist[0] < configuration[\"max_euclid\"] ].hist(bins=50, figsize=(20,10))"
   ]
  },
  {
   "cell_type": "markdown",
   "id": "18d723c6",
   "metadata": {},
   "source": [
    "## Show geospatial info on map"
   ]
  },
  {
   "cell_type": "code",
   "execution_count": null,
   "id": "7afc2ddb",
   "metadata": {},
   "outputs": [],
   "source": [
    "euclid_distance = configuration[\"euclid_distance\"]\n",
    "workHours = {}\n",
    "popuptxt = \"{}\\n[{}:{}]\"\n",
    "origo_ts_int = int( configuration[\"date_start\"] )\n",
    "\n",
    "my_map = Map(location=CoordWork,\n",
    "            zoom_start=configuration[\"zoom_start\"])\n",
    "\n",
    "Circle( location=CoordWork, \n",
    "        radius=euclid_distance,\n",
    "        popup='Work Area',\n",
    "        line_color='black',\n",
    "        fill_color='green',\n",
    "        fill_opacity=0.25).add_to(my_map)\n",
    "\n",
    "for day in dailySets:\n",
    "    if day < origo_ts_int:\n",
    "        continue\n",
    "    tsFirst = None\n",
    "    tsLast = None\n",
    "    for event in dailySets[day]:\n",
    "        if event[\"euclid\"] <= euclid_distance:      #Within geofencing radius\n",
    "            if not tsFirst:\n",
    "                tsFirst = event\n",
    "                tsLast = event\n",
    "            else:\n",
    "                if tsLast[\"timestamp\"] < event[\"timestamp\"]:\n",
    "                    tsLast = event\n",
    "    if tsFirst and tsLast:\n",
    "        Marker( location=[tsFirst[\"lat\"],tsFirst[\"long\"]], icon=Icon(color=\"green\"),\n",
    "                popup=popuptxt.format(tsFirst[\"timestamp\"], tsFirst[\"lat\"],tsFirst[\"long\"] ) ).add_to(my_map)\n",
    "\n",
    "        Marker( location=[tsLast[\"lat\"],tsLast[\"long\"]], icon=Icon(color=\"red\"),\n",
    "                popup=popuptxt.format(tsLast[\"timestamp\"], tsLast[\"lat\"],tsLast[\"long\"] ) ).add_to(my_map)\n",
    "    workHours.update({day: [tsFirst,tsLast]})\n",
    "\n",
    "my_map"
   ]
  },
  {
   "cell_type": "markdown",
   "id": "b40f3861",
   "metadata": {},
   "source": [
    "## Generate excel"
   ]
  },
  {
   "cell_type": "code",
   "execution_count": null,
   "id": "66bb400b",
   "metadata": {},
   "outputs": [],
   "source": [
    "hours = []\n",
    "day_min = None\n",
    "day_max = None\n",
    "for day in workHours:\n",
    "    date = datetime.strptime( str(day), \"%Y%m%d\" )\n",
    "    if day_min == None or day_min > date:\n",
    "        day_min = date\n",
    "    if day_max == None or date > day_max:\n",
    "        day_max = date\n",
    "        \n",
    "    weekend = True if date.weekday() >= 5 else False\n",
    "        \n",
    "    if workHours[day][0] is None or workHours[day][1] is None:\n",
    "        minHours = None\n",
    "        hours.append({\"date\":date.strftime(\"%Y%m%d\"), \n",
    "                      \"start\":None, \n",
    "                      \"end\":None, \n",
    "                      \"minutes\":0.0, \n",
    "                      \"weekend\":weekend, \n",
    "                      \"7.5h\":None})\n",
    "    else:\n",
    "        start = workHours[day][0][\"timestamp\"]\n",
    "        end   = workHours[day][1][\"timestamp\"]\n",
    "        minHours = True if (((end-start).seconds/3600.0) > 7.5) else False\n",
    "        hours.append({\"date\":date.strftime(\"%Y%m%d\"), \n",
    "                      \"start\":start.strftime(\"%Y%m%d_%H%M\"), \n",
    "                      \"end\":end.strftime(\"%Y%m%d_%H%M\"), \n",
    "                      \"minutes\":(end-start).seconds/60.0, \n",
    "                      \"weekend\":weekend, \n",
    "                      \"7.5h\":minHours})\n",
    "\n",
    "        \n",
    "dfHours = pd.DataFrame(hours)\n",
    "dfHours.to_excel(\"workHours-{}-{}.xlsx\".format(datetime.strftime( day_min, \"%Y%m%d\" ),\n",
    "                                                datetime.strftime( day_max, \"%Y%m%d\" )),\n",
    "                                                 sheet_name=\"Work Hours\", header=True, index=False)\n",
    "dfHours.head()"
   ]
  },
  {
   "cell_type": "markdown",
   "id": "fb573c75",
   "metadata": {},
   "source": [
    "## Visualization"
   ]
  },
  {
   "cell_type": "code",
   "execution_count": null,
   "id": "939dfcea",
   "metadata": {},
   "outputs": [],
   "source": [
    "dfA = dfHours.set_index(\"date\")\n",
    "plt.style.use(\"fivethirtyeight\")\n",
    "plt.figure(figsize=(50, 20))\n",
    "plt.xlabel(\"date\")\n",
    "plt.ylabel(\"minutes\")\n",
    "plt.title(\"Sample Time Series Plot\")\n",
    "plt.plot(dfA[\"minutes\"]/60)\n"
   ]
  }
 ],
 "metadata": {
  "interpreter": {
   "hash": "369f2c481f4da34e4445cda3fffd2e751bd1c4d706f27375911949ba6bb62e1c"
  },
  "kernelspec": {
   "display_name": "Python 3.10.4 64-bit",
   "language": "python",
   "name": "python3"
  },
  "language_info": {
   "codemirror_mode": {
    "name": "ipython",
    "version": 3
   },
   "file_extension": ".py",
   "mimetype": "text/x-python",
   "name": "python",
   "nbconvert_exporter": "python",
   "pygments_lexer": "ipython3",
   "version": "3.10.6"
  }
 },
 "nbformat": 4,
 "nbformat_minor": 5
}
